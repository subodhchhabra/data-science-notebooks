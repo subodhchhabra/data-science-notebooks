{
 "cells": [
  {
   "cell_type": "code",
   "execution_count": 3,
   "metadata": {
    "collapsed": false
   },
   "outputs": [
    {
     "name": "stdout",
     "output_type": "stream",
     "text": [
      "u'foo'\n",
      "u'foo'\n",
      "'foo'\n",
      "'foo'\n"
     ]
    }
   ],
   "source": [
    "# %load ../example_code/item_03.py\n",
    "#!/usr/bin/env python3\n",
    "\n",
    "import logging\n",
    "from pprint import pprint\n",
    "from sys import stdout as STDOUT\n",
    "\n",
    "\n",
    "# Example 1\n",
    "def to_str(bytes_or_str):\n",
    "    if isinstance(bytes_or_str, bytes):\n",
    "        value = bytes_or_str.decode('utf-8')\n",
    "    else:\n",
    "        value = bytes_or_str\n",
    "    return value  # Instance of str\n",
    "\n",
    "print(repr(to_str(b'foo')))\n",
    "print(repr(to_str('foo')))\n",
    "\n",
    "\n",
    "# Example 2\n",
    "def to_bytes(bytes_or_str):\n",
    "    if isinstance(bytes_or_str, str):\n",
    "        value = bytes_or_str.encode('utf-8')\n",
    "    else:\n",
    "        value = bytes_or_str\n",
    "    return value  # Instance of bytes\n",
    "\n",
    "print(repr(to_bytes(b'foo')))\n",
    "print(repr(to_bytes('foo')))\n",
    "\n",
    "\n",
    "# Example 5\n",
    "# try:\n",
    "#     import os\n",
    "#     with open('random.bin', 'w') as f:\n",
    "#         f.write(os.urandom(10))\n",
    "# except:\n",
    "#     logging.exception('Expected')\n",
    "# else:\n",
    "#     assert False\n",
    "\n",
    "\n",
    "# Example 6\n",
    "with open('random.bin', 'wb') as f:\n",
    "    f.write(os.urandom(10))\n"
   ]
  },
  {
   "cell_type": "code",
   "execution_count": 5,
   "metadata": {
    "collapsed": false
   },
   "outputs": [
    {
     "name": "stdout",
     "output_type": "stream",
     "text": [
      "u'foo'\n",
      "u'foo'\n"
     ]
    }
   ],
   "source": [
    "# %load ../example_code/item_03_example_03.py\n",
    "#!/usr/bin/env python2.7\n",
    "\n",
    "import logging\n",
    "from pprint import pprint\n",
    "from sys import stdout as STDOUT\n",
    "\n",
    "\n",
    "# Example 3\n",
    "def to_unicode(unicode_or_str):\n",
    "    if isinstance(unicode_or_str, str):\n",
    "        value = unicode_or_str.decode('utf-8')\n",
    "    else:\n",
    "        value = unicode_or_str\n",
    "    return value  # Instance of unicode\n",
    "\n",
    "print(repr(to_unicode(u'foo')))\n",
    "print(repr(to_unicode('foo')))\n"
   ]
  },
  {
   "cell_type": "code",
   "execution_count": 7,
   "metadata": {
    "collapsed": false
   },
   "outputs": [
    {
     "name": "stdout",
     "output_type": "stream",
     "text": [
      "'foo'\n",
      "'foo'\n"
     ]
    }
   ],
   "source": [
    "# %load ../example_code/item_03_example_04.py\n",
    "#!/usr/bin/env python2.7\n",
    "\n",
    "import logging\n",
    "from pprint import pprint\n",
    "from sys import stdout as STDOUT\n",
    "\n",
    "\n",
    "# Example 4\n",
    "def to_str(unicode_or_str):\n",
    "    if isinstance(unicode_or_str, unicode):\n",
    "        value = unicode_or_str.encode('utf-8')\n",
    "    else:\n",
    "        value = unicode_or_str\n",
    "    return value  # Instance of str\n",
    "\n",
    "print(repr(to_str(u'foo')))\n",
    "print(repr(to_str('foo')))\n"
   ]
  }
 ],
 "metadata": {
  "kernelspec": {
   "display_name": "Python 2",
   "language": "python",
   "name": "python2"
  },
  "language_info": {
   "codemirror_mode": {
    "name": "ipython",
    "version": 2
   },
   "file_extension": ".py",
   "mimetype": "text/x-python",
   "name": "python",
   "nbconvert_exporter": "python",
   "pygments_lexer": "ipython2",
   "version": "2.7.11"
  },
  "toc": {
   "toc_cell": false,
   "toc_number_sections": false,
   "toc_threshold": "8",
   "toc_window_display": false
  }
 },
 "nbformat": 4,
 "nbformat_minor": 0
}
